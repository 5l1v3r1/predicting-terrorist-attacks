{
 "cells": [
  {
   "cell_type": "markdown",
   "metadata": {},
   "source": [
    "# Predicting Terrorist Attacks\n",
    "## Weapon Classification\n",
    "\n",
    "**Author:** Thomas Skowronek\n",
    "\n",
    "**Date:** April 07, 2018"
   ]
  },
  {
   "cell_type": "markdown",
   "metadata": {},
   "source": [
    "### Notebook Configuration"
   ]
  },
  {
   "cell_type": "code",
   "execution_count": 532,
   "metadata": {
    "collapsed": true
   },
   "outputs": [],
   "source": [
    "import time\n",
    "import pandas as pd\n",
    "import numpy as np\n",
    "import matplotlib as mpl\n",
    "import matplotlib.pyplot as plt\n",
    "import seaborn as sns\n",
    "\n",
    "from sklearn.preprocessing import scale\n",
    "from sklearn import preprocessing\n",
    "from sklearn.model_selection import train_test_split\n",
    "from sklearn.ensemble import RandomForestClassifier\n",
    "from sklearn.metrics import accuracy_score\n",
    "from sklearn.metrics import precision_score\n",
    "from sklearn.metrics import recall_score\n",
    "from sklearn.metrics import f1_score"
   ]
  },
  {
   "cell_type": "code",
   "execution_count": 533,
   "metadata": {
    "collapsed": true
   },
   "outputs": [],
   "source": [
    "# Display up to 150 rows and columns\n",
    "pd.set_option('display.max_rows', 150)\n",
    "pd.set_option('display.max_columns', 150)\n",
    "\n",
    "# Set the figure size for plots\n",
    "mpl.rcParams['figure.figsize'] = (14.6, 9.0)\n",
    "\n",
    "# Set the Seaborn default style for plots\n",
    "sns.set()\n",
    "\n",
    "# Set the color palette\n",
    "sns.set_palette(sns.color_palette(\"muted\"))"
   ]
  },
  {
   "cell_type": "markdown",
   "metadata": {},
   "source": [
    "### Load the Datasets\n",
    "Load the dataset created by the EDA notebook."
   ]
  },
  {
   "cell_type": "code",
   "execution_count": 534,
   "metadata": {
    "collapsed": true
   },
   "outputs": [],
   "source": [
    "# Load the preprocessed GTD dataset\n",
    "gtd_df = pd.read_csv('../data/gtd_eda_95t016.csv', low_memory=False, index_col = 0,\n",
    "                      na_values=[''])"
   ]
  },
  {
   "cell_type": "markdown",
   "metadata": {},
   "source": [
    "### Inspect the Structure\n",
    "The cleansed data frame contains 48 attributes, one of which is used for the data frame index, and 110,844 observations."
   ]
  },
  {
   "cell_type": "code",
   "execution_count": 535,
   "metadata": {},
   "outputs": [
    {
     "name": "stdout",
     "output_type": "stream",
     "text": [
      "<class 'pandas.core.frame.DataFrame'>\n",
      "Int64Index: 110844 entries, 199501000001 to 201701270001\n",
      "Data columns (total 48 columns):\n",
      "iyear               110844 non-null int64\n",
      "imonth              110844 non-null int64\n",
      "iday                110844 non-null int64\n",
      "country_txt         110844 non-null object\n",
      "region_txt          110844 non-null object\n",
      "provstate           110844 non-null object\n",
      "city                110844 non-null object\n",
      "latitude            110844 non-null float64\n",
      "longitude           110844 non-null float64\n",
      "specificity         110844 non-null float64\n",
      "summary             110844 non-null object\n",
      "attacktype1_txt     110844 non-null object\n",
      "targtype1_txt       110844 non-null object\n",
      "targsubtype1_txt    110844 non-null object\n",
      "corp1               110844 non-null object\n",
      "target1             110844 non-null object\n",
      "natlty1_txt         110844 non-null object\n",
      "gname               110844 non-null object\n",
      "nperpcap            110844 non-null float64\n",
      "weaptype1_txt       110844 non-null object\n",
      "weapsubtype1_txt    110844 non-null object\n",
      "nkill               110844 non-null float64\n",
      "nkillus             110844 non-null float64\n",
      "nkillter            110844 non-null float64\n",
      "nwound              110844 non-null float64\n",
      "nwoundus            110844 non-null float64\n",
      "nwoundte            110844 non-null float64\n",
      "scite1              110844 non-null object\n",
      "dbsource            110844 non-null object\n",
      "extended_txt        110844 non-null object\n",
      "vicinity_txt        110844 non-null object\n",
      "crit1_txt           110844 non-null object\n",
      "crit2_txt           110844 non-null object\n",
      "crit3_txt           110844 non-null object\n",
      "doubtterr_txt       110844 non-null object\n",
      "multiple_txt        110844 non-null object\n",
      "success_txt         110844 non-null object\n",
      "suicide_txt         110844 non-null object\n",
      "guncertain1_txt     110844 non-null object\n",
      "individual_txt      110844 non-null object\n",
      "claimed_txt         110844 non-null object\n",
      "property_txt        110844 non-null object\n",
      "ishostkid_txt       110844 non-null object\n",
      "INT_LOG_txt         110844 non-null object\n",
      "INT_IDEO_txt        110844 non-null object\n",
      "INT_MISC_txt        110844 non-null object\n",
      "INT_ANY_txt         110844 non-null object\n",
      "incident_date       110844 non-null object\n",
      "dtypes: float64(10), int64(3), object(35)\n",
      "memory usage: 41.4+ MB\n"
     ]
    }
   ],
   "source": [
    "# Display a summary of the data frame\n",
    "gtd_df.info(verbose = True)"
   ]
  },
  {
   "cell_type": "markdown",
   "metadata": {},
   "source": [
    "### Convert Attributes to Correct Data Type\n",
    "Convert a subset of the data frame attributes to categorical, datatime and string to align with the GTD code book as executed previously in the EDA notebook."
   ]
  },
  {
   "cell_type": "code",
   "execution_count": 536,
   "metadata": {},
   "outputs": [
    {
     "name": "stdout",
     "output_type": "stream",
     "text": [
      "<class 'pandas.core.frame.DataFrame'>\n",
      "Int64Index: 110844 entries, 199501000001 to 201701270001\n",
      "Data columns (total 48 columns):\n",
      "iyear               110844 non-null int64\n",
      "imonth              110844 non-null int64\n",
      "iday                110844 non-null int64\n",
      "country_txt         110844 non-null category\n",
      "region_txt          110844 non-null category\n",
      "provstate           110844 non-null object\n",
      "city                110844 non-null object\n",
      "latitude            110844 non-null float64\n",
      "longitude           110844 non-null float64\n",
      "specificity         110844 non-null category\n",
      "summary             110844 non-null object\n",
      "attacktype1_txt     110844 non-null category\n",
      "targtype1_txt       110844 non-null category\n",
      "targsubtype1_txt    110844 non-null category\n",
      "corp1               110844 non-null object\n",
      "target1             110844 non-null object\n",
      "natlty1_txt         110844 non-null category\n",
      "gname               110844 non-null object\n",
      "nperpcap            110844 non-null float64\n",
      "weaptype1_txt       110844 non-null category\n",
      "weapsubtype1_txt    110844 non-null category\n",
      "nkill               110844 non-null float64\n",
      "nkillus             110844 non-null float64\n",
      "nkillter            110844 non-null float64\n",
      "nwound              110844 non-null float64\n",
      "nwoundus            110844 non-null float64\n",
      "nwoundte            110844 non-null float64\n",
      "scite1              110844 non-null object\n",
      "dbsource            110844 non-null object\n",
      "extended_txt        110844 non-null category\n",
      "vicinity_txt        110844 non-null category\n",
      "crit1_txt           110844 non-null category\n",
      "crit2_txt           110844 non-null category\n",
      "crit3_txt           110844 non-null category\n",
      "doubtterr_txt       110844 non-null category\n",
      "multiple_txt        110844 non-null category\n",
      "success_txt         110844 non-null category\n",
      "suicide_txt         110844 non-null category\n",
      "guncertain1_txt     110844 non-null category\n",
      "individual_txt      110844 non-null category\n",
      "claimed_txt         110844 non-null category\n",
      "property_txt        110844 non-null category\n",
      "ishostkid_txt       110844 non-null category\n",
      "INT_LOG_txt         110844 non-null category\n",
      "INT_IDEO_txt        110844 non-null category\n",
      "INT_MISC_txt        110844 non-null category\n",
      "INT_ANY_txt         110844 non-null category\n",
      "incident_date       110844 non-null datetime64[ns]\n",
      "dtypes: category(27), datetime64[ns](1), float64(9), int64(3), object(8)\n",
      "memory usage: 21.7+ MB\n"
     ]
    }
   ],
   "source": [
    "# List of attributes that are categorical\n",
    "cat_attrs = ['extended_txt', 'country_txt', 'region_txt', 'specificity', 'vicinity_txt',\n",
    "             'crit1_txt', 'crit2_txt', 'crit3_txt', 'doubtterr_txt', 'multiple_txt',\n",
    "             'success_txt', 'suicide_txt', 'attacktype1_txt', 'targtype1_txt', \n",
    "             'targsubtype1_txt', 'natlty1_txt', 'guncertain1_txt', 'individual_txt', \n",
    "             'claimed_txt', 'weaptype1_txt', 'weapsubtype1_txt', 'property_txt', \n",
    "             'ishostkid_txt', 'INT_LOG_txt', 'INT_IDEO_txt','INT_MISC_txt', 'INT_ANY_txt']\n",
    "\n",
    "for cat in cat_attrs:\n",
    "    gtd_df[cat] = gtd_df[cat].astype('category')\n",
    "\n",
    "# Data time feature added during EDA\n",
    "gtd_df['incident_date'] = pd.to_datetime(gtd_df['incident_date'])\n",
    "\n",
    "# Necessary for label encoding below\n",
    "gtd_df['gname'] = gtd_df['gname'].astype('str')\n",
    "    \n",
    "gtd_df.info(verbose = True)"
   ]
  },
  {
   "cell_type": "markdown",
   "metadata": {},
   "source": [
    "### Find the Major Groups\n",
    "Get the list of terrorist groups that have 55 or more attacks."
   ]
  },
  {
   "cell_type": "code",
   "execution_count": 537,
   "metadata": {
    "scrolled": false
   },
   "outputs": [
    {
     "data": {
      "text/plain": [
       "Taliban                                                         6558\n",
       "Islamic State of Iraq and the Levant (ISIL)                     4261\n",
       "Al-Shabaab                                                      2669\n",
       "Boko Haram                                                      2067\n",
       "Communist Party of India - Maoist (CPI-Maoist)                  1766\n",
       "Revolutionary Armed Forces of Colombia (FARC)                   1529\n",
       "New People's Army (NPA)                                         1444\n",
       "Maoists                                                         1411\n",
       "Kurdistan Workers' Party (PKK)                                  1255\n",
       "Tehrik-i-Taliban Pakistan (TTP)                                 1250\n",
       "Al-Qaida in the Arabian Peninsula (AQAP)                         966\n",
       "Liberation Tigers of Tamil Eelam (LTTE)                          950\n",
       "Houthi extremists (Ansar Allah)                                  862\n",
       "Al-Qaida in Iraq                                                 633\n",
       "Donetsk People's Republic                                        613\n",
       "National Liberation Army of Colombia (ELN)                       569\n",
       "Muslim extremists                                                534\n",
       "Abu Sayyaf Group (ASG)                                           460\n",
       "Separatists                                                      454\n",
       "Fulani extremists                                                431\n",
       "Palestinian Extremists                                           384\n",
       "Basque Fatherland and Freedom (ETA)                              369\n",
       "Algerian Islamic Extremists                                      366\n",
       "Moro Islamic Liberation Front (MILF)                             336\n",
       "Hamas (Islamic Resistance Movement)                              334\n",
       "Tripoli Province of the Islamic State                            327\n",
       "Chechen Rebels                                                   326\n",
       "Sinai Province of the Islamic State                              323\n",
       "Bangsamoro Islamic Freedom Movement (BIFM)                       320\n",
       "United Liberation Front of Assam (ULFA)                          314\n",
       "Baloch Republican Army (BRA)                                     298\n",
       "Lord's Resistance Army (LRA)                                     293\n",
       "Al-Nusrah Front                                                  263\n",
       "Gunmen                                                           263\n",
       "Al-Qaida in the Islamic Maghreb (AQIM)                           249\n",
       "Salafist Group for Preaching and Fighting (GSPC)                 207\n",
       "Luhansk People's Republic                                        207\n",
       "Janjaweed                                                        200\n",
       "Armed Islamic Group (GIA)                                        192\n",
       "Allied Democratic Forces (ADF)                                   191\n",
       "Corsican National Liberation Front (FLNC)                        175\n",
       "Al-Aqsa Martyrs Brigade                                          170\n",
       "Hezbollah                                                        169\n",
       "Baloch Liberation Army (BLA)                                     168\n",
       "Palestinian Islamic Jihad (PIJ)                                  166\n",
       "Khorasan Chapter of the Islamic State                            165\n",
       "National Democratic Front of Bodoland (NDFB)                     164\n",
       "Baloch Liberation Front (BLF)                                    160\n",
       "Garo National Liberation Army                                    158\n",
       "Lashkar-e-Taiba (LeT)                                            156\n",
       "Hutu extremists                                                  149\n",
       "Hizbul Mujahideen (HM)                                           147\n",
       "Al-Gama'at al-Islamiyya (IG)                                     146\n",
       "Runda Kumpulan Kecil (RKK)                                       146\n",
       "Islamic State of Iraq (ISI)                                      145\n",
       "Barqa Province of the Islamic State                              144\n",
       "Shining Path (SL)                                                139\n",
       "National Union for the Total Independence of Angola (UNITA)      134\n",
       "Muslim Separatists                                               134\n",
       "Islamist extremists                                              129\n",
       "Muttahida Qami Movement (MQM)                                    124\n",
       "Tribesmen                                                        124\n",
       "Lashkar-e-Jhangvi                                                122\n",
       "Lashkar-e-Islam (Pakistan)                                       117\n",
       "Free Syrian Army                                                 112\n",
       "Free Aceh Movement (GAM)                                         109\n",
       "Mozambique National Resistance Movement (MNR)                    107\n",
       "Democratic Front for the Liberation of Rwanda (FDLR)              94\n",
       "Pro Hartal Activists                                              92\n",
       "Dissident Republicans                                             91\n",
       "United Baloch Army (UBA)                                          88\n",
       "Uighur Separatists                                                86\n",
       "Corsican National Liberation Front- Historic Channel              84\n",
       "Animal Liberation Front (ALF)                                     84\n",
       "National Socialist Council of Nagaland-Isak-Muivah (NSCN-IM)      81\n",
       "Haqqani Network                                                   79\n",
       "Janatantrik Terai Mukti Morcha- Jwala Singh (JTMM-J)              78\n",
       "National Liberation Front of Tripura (NLFT)                       77\n",
       "Anarchists                                                        77\n",
       "Movement for the Emancipation of the Niger Delta (MEND)           76\n",
       "Militants                                                         75\n",
       "Jemaah Islamiya (JI)                                              75\n",
       "People's Liberation Army (India)                                  75\n",
       "Bangladesh Nationalist Party (BNP)                                74\n",
       "People's War Group (PWG)                                          73\n",
       "Earth Liberation Front (ELF)                                      72\n",
       "Muslim Militants                                                  72\n",
       "Ansar Bayt al-Maqdis (Ansar Jerusalem)                            71\n",
       "Jihadi-inspired extremists                                        67\n",
       "Irish Republican Army (IRA)                                       67\n",
       "Jamaat-E-Islami (Bangladesh)                                      66\n",
       "Asa'ib Ahl al-Haqq                                                65\n",
       "Sudan People's Liberation Movement in Opposition (SPLM-IO)        65\n",
       "United Self Defense Units of Colombia (AUC)                       64\n",
       "Ansar al-Sharia (Libya)                                           64\n",
       "Anti-Abortion extremists                                          63\n",
       "Popular Front for the Liberation of Palestine (PFLP)              62\n",
       "Opposition Group                                                  61\n",
       "Paraguayan People's Army (EPP)                                    60\n",
       "Sindhu Desh Liberation Army (SDLA)                                58\n",
       "Thai Islamic Militants                                            58\n",
       "Sudan People's Liberation Movement - North                        58\n",
       "Kosovo Liberation Army (KLA)                                      58\n",
       "Southern Mobility Movement (Yemen)                                58\n",
       "Al-Qaida                                                          56\n",
       "Name: gname, dtype: int64"
      ]
     },
     "execution_count": 537,
     "metadata": {},
     "output_type": "execute_result"
    }
   ],
   "source": [
    "# Calculate the number of attacks by group\n",
    "groups = gtd_df['gname'].value_counts()\n",
    "\n",
    "# Include groups with at least 55 attacks\n",
    "groups = groups[groups > 54]\n",
    "\n",
    "# Exclude unknown groups\n",
    "group_list = groups.index[groups.index != 'Unknown']\n",
    "\n",
    "# Subset the data to major groups\n",
    "major_groups = gtd_df[gtd_df['gname'].isin(group_list)]\n",
    "\n",
    "# Display the number of attacks by group\n",
    "major_groups['gname'].value_counts()"
   ]
  },
  {
   "cell_type": "markdown",
   "metadata": {},
   "source": [
    "### Drop Text and Datetime Attributes\n",
    "Remove the text and datetime attributes, which will not be used in the models."
   ]
  },
  {
   "cell_type": "code",
   "execution_count": 538,
   "metadata": {},
   "outputs": [
    {
     "name": "stdout",
     "output_type": "stream",
     "text": [
      "<class 'pandas.core.frame.DataFrame'>\n",
      "Int64Index: 43047 entries, 199501000001 to 201612310043\n",
      "Data columns (total 40 columns):\n",
      "iyear               43047 non-null int64\n",
      "imonth              43047 non-null int64\n",
      "iday                43047 non-null int64\n",
      "country_txt         43047 non-null category\n",
      "region_txt          43047 non-null category\n",
      "latitude            43047 non-null float64\n",
      "longitude           43047 non-null float64\n",
      "specificity         43047 non-null category\n",
      "attacktype1_txt     43047 non-null category\n",
      "targtype1_txt       43047 non-null category\n",
      "targsubtype1_txt    43047 non-null category\n",
      "natlty1_txt         43047 non-null category\n",
      "gname               43047 non-null object\n",
      "nperpcap            43047 non-null float64\n",
      "weaptype1_txt       43047 non-null category\n",
      "weapsubtype1_txt    43047 non-null category\n",
      "nkill               43047 non-null float64\n",
      "nkillus             43047 non-null float64\n",
      "nkillter            43047 non-null float64\n",
      "nwound              43047 non-null float64\n",
      "nwoundus            43047 non-null float64\n",
      "nwoundte            43047 non-null float64\n",
      "extended_txt        43047 non-null category\n",
      "vicinity_txt        43047 non-null category\n",
      "crit1_txt           43047 non-null category\n",
      "crit2_txt           43047 non-null category\n",
      "crit3_txt           43047 non-null category\n",
      "doubtterr_txt       43047 non-null category\n",
      "multiple_txt        43047 non-null category\n",
      "success_txt         43047 non-null category\n",
      "suicide_txt         43047 non-null category\n",
      "guncertain1_txt     43047 non-null category\n",
      "individual_txt      43047 non-null category\n",
      "claimed_txt         43047 non-null category\n",
      "property_txt        43047 non-null category\n",
      "ishostkid_txt       43047 non-null category\n",
      "INT_LOG_txt         43047 non-null category\n",
      "INT_IDEO_txt        43047 non-null category\n",
      "INT_MISC_txt        43047 non-null category\n",
      "INT_ANY_txt         43047 non-null category\n",
      "dtypes: category(27), float64(9), int64(3), object(1)\n",
      "memory usage: 5.8+ MB\n"
     ]
    }
   ],
   "source": [
    "major_groups = major_groups.drop(['provstate', 'city', 'summary', 'corp1', 'target1',\n",
    "                                  'scite1', 'dbsource', 'incident_date'], axis=1)\n",
    "\n",
    "major_groups.info(verbose = True)"
   ]
  },
  {
   "cell_type": "markdown",
   "metadata": {},
   "source": [
    "### Standardize the Numeric Attributes\n",
    "Adjust for differences in the range of the numeric attributes."
   ]
  },
  {
   "cell_type": "code",
   "execution_count": 539,
   "metadata": {},
   "outputs": [
    {
     "data": {
      "text/html": [
       "<div>\n",
       "<style>\n",
       "    .dataframe thead tr:only-child th {\n",
       "        text-align: right;\n",
       "    }\n",
       "\n",
       "    .dataframe thead th {\n",
       "        text-align: left;\n",
       "    }\n",
       "\n",
       "    .dataframe tbody tr th {\n",
       "        vertical-align: top;\n",
       "    }\n",
       "</style>\n",
       "<table border=\"1\" class=\"dataframe\">\n",
       "  <thead>\n",
       "    <tr style=\"text-align: right;\">\n",
       "      <th></th>\n",
       "      <th>count</th>\n",
       "      <th>mean</th>\n",
       "      <th>std</th>\n",
       "      <th>min</th>\n",
       "      <th>25%</th>\n",
       "      <th>50%</th>\n",
       "      <th>75%</th>\n",
       "      <th>max</th>\n",
       "    </tr>\n",
       "  </thead>\n",
       "  <tbody>\n",
       "    <tr>\n",
       "      <th>nperpcap</th>\n",
       "      <td>43047.0</td>\n",
       "      <td>-6.359070e-15</td>\n",
       "      <td>1.000012</td>\n",
       "      <td>-0.048863</td>\n",
       "      <td>-0.048863</td>\n",
       "      <td>-0.048863</td>\n",
       "      <td>-0.048863</td>\n",
       "      <td>175.344421</td>\n",
       "    </tr>\n",
       "    <tr>\n",
       "      <th>nkill</th>\n",
       "      <td>43047.0</td>\n",
       "      <td>-1.211440e-16</td>\n",
       "      <td>1.000012</td>\n",
       "      <td>-0.218733</td>\n",
       "      <td>-0.218733</td>\n",
       "      <td>-0.160528</td>\n",
       "      <td>-0.044119</td>\n",
       "      <td>87.088708</td>\n",
       "    </tr>\n",
       "    <tr>\n",
       "      <th>nkillus</th>\n",
       "      <td>43047.0</td>\n",
       "      <td>4.108215e-16</td>\n",
       "      <td>1.000012</td>\n",
       "      <td>-0.008724</td>\n",
       "      <td>-0.008724</td>\n",
       "      <td>-0.008724</td>\n",
       "      <td>-0.008724</td>\n",
       "      <td>147.644500</td>\n",
       "    </tr>\n",
       "    <tr>\n",
       "      <th>nkillter</th>\n",
       "      <td>43047.0</td>\n",
       "      <td>4.246914e-14</td>\n",
       "      <td>1.000012</td>\n",
       "      <td>-0.154393</td>\n",
       "      <td>-0.154393</td>\n",
       "      <td>-0.154393</td>\n",
       "      <td>-0.154393</td>\n",
       "      <td>59.987162</td>\n",
       "    </tr>\n",
       "    <tr>\n",
       "      <th>nwound</th>\n",
       "      <td>43047.0</td>\n",
       "      <td>2.148770e-15</td>\n",
       "      <td>1.000012</td>\n",
       "      <td>-0.075887</td>\n",
       "      <td>-0.075887</td>\n",
       "      <td>-0.075887</td>\n",
       "      <td>-0.040656</td>\n",
       "      <td>129.680434</td>\n",
       "    </tr>\n",
       "    <tr>\n",
       "      <th>nwoundus</th>\n",
       "      <td>43047.0</td>\n",
       "      <td>-2.079679e-15</td>\n",
       "      <td>1.000012</td>\n",
       "      <td>-0.023137</td>\n",
       "      <td>-0.023137</td>\n",
       "      <td>-0.023137</td>\n",
       "      <td>-0.023137</td>\n",
       "      <td>133.566825</td>\n",
       "    </tr>\n",
       "    <tr>\n",
       "      <th>nwoundte</th>\n",
       "      <td>43047.0</td>\n",
       "      <td>-3.460625e-14</td>\n",
       "      <td>1.000012</td>\n",
       "      <td>-0.096721</td>\n",
       "      <td>-0.096721</td>\n",
       "      <td>-0.096721</td>\n",
       "      <td>-0.096721</td>\n",
       "      <td>78.077587</td>\n",
       "    </tr>\n",
       "  </tbody>\n",
       "</table>\n",
       "</div>"
      ],
      "text/plain": [
       "            count          mean       std       min       25%       50%  \\\n",
       "nperpcap  43047.0 -6.359070e-15  1.000012 -0.048863 -0.048863 -0.048863   \n",
       "nkill     43047.0 -1.211440e-16  1.000012 -0.218733 -0.218733 -0.160528   \n",
       "nkillus   43047.0  4.108215e-16  1.000012 -0.008724 -0.008724 -0.008724   \n",
       "nkillter  43047.0  4.246914e-14  1.000012 -0.154393 -0.154393 -0.154393   \n",
       "nwound    43047.0  2.148770e-15  1.000012 -0.075887 -0.075887 -0.075887   \n",
       "nwoundus  43047.0 -2.079679e-15  1.000012 -0.023137 -0.023137 -0.023137   \n",
       "nwoundte  43047.0 -3.460625e-14  1.000012 -0.096721 -0.096721 -0.096721   \n",
       "\n",
       "               75%         max  \n",
       "nperpcap -0.048863  175.344421  \n",
       "nkill    -0.044119   87.088708  \n",
       "nkillus  -0.008724  147.644500  \n",
       "nkillter -0.154393   59.987162  \n",
       "nwound   -0.040656  129.680434  \n",
       "nwoundus -0.023137  133.566825  \n",
       "nwoundte -0.096721   78.077587  "
      ]
     },
     "execution_count": 539,
     "metadata": {},
     "output_type": "execute_result"
    }
   ],
   "source": [
    "scaler = preprocessing.StandardScaler()\n",
    "\n",
    "# List of numeric attributes\n",
    "scale_attrs = ['nperpcap', 'nkill', 'nkillus', 'nkillter', 'nwound', 'nwoundus', 'nwoundte']\n",
    "\n",
    "# Normalize the attributes in place\n",
    "major_groups[scale_attrs] = scaler.fit_transform(major_groups[scale_attrs])\n",
    "\n",
    "# View the transformation\n",
    "major_groups[scale_attrs].describe().transpose()"
   ]
  },
  {
   "cell_type": "markdown",
   "metadata": {},
   "source": [
    "### Encode the Target Attribute\n",
    "Convert the text values of the terrorist groups to an encoded numeric value for the random forest models."
   ]
  },
  {
   "cell_type": "code",
   "execution_count": 540,
   "metadata": {},
   "outputs": [
    {
     "data": {
      "text/plain": [
       "LabelEncoder()"
      ]
     },
     "execution_count": 540,
     "metadata": {},
     "output_type": "execute_result"
    }
   ],
   "source": [
    "# Create the encoder\n",
    "le = preprocessing.LabelEncoder()\n",
    "\n",
    "# Fit the encoder to the target\n",
    "le.fit(major_groups['gname'])"
   ]
  },
  {
   "cell_type": "code",
   "execution_count": 541,
   "metadata": {},
   "outputs": [
    {
     "data": {
      "text/plain": [
       "['Abu Sayyaf Group (ASG)',\n",
       " 'Al-Aqsa Martyrs Brigade',\n",
       " \"Al-Gama'at al-Islamiyya (IG)\",\n",
       " 'Al-Nusrah Front',\n",
       " 'Al-Qaida',\n",
       " 'Al-Qaida in Iraq',\n",
       " 'Al-Qaida in the Arabian Peninsula (AQAP)',\n",
       " 'Al-Qaida in the Islamic Maghreb (AQIM)',\n",
       " 'Al-Shabaab',\n",
       " 'Algerian Islamic Extremists',\n",
       " 'Allied Democratic Forces (ADF)',\n",
       " 'Anarchists',\n",
       " 'Animal Liberation Front (ALF)',\n",
       " 'Ansar Bayt al-Maqdis (Ansar Jerusalem)',\n",
       " 'Ansar al-Sharia (Libya)',\n",
       " 'Anti-Abortion extremists',\n",
       " 'Armed Islamic Group (GIA)',\n",
       " \"Asa'ib Ahl al-Haqq\",\n",
       " 'Baloch Liberation Army (BLA)',\n",
       " 'Baloch Liberation Front (BLF)',\n",
       " 'Baloch Republican Army (BRA)',\n",
       " 'Bangladesh Nationalist Party (BNP)',\n",
       " 'Bangsamoro Islamic Freedom Movement (BIFM)',\n",
       " 'Barqa Province of the Islamic State',\n",
       " 'Basque Fatherland and Freedom (ETA)',\n",
       " 'Boko Haram',\n",
       " 'Chechen Rebels',\n",
       " 'Communist Party of India - Maoist (CPI-Maoist)',\n",
       " 'Corsican National Liberation Front (FLNC)',\n",
       " 'Corsican National Liberation Front- Historic Channel',\n",
       " 'Democratic Front for the Liberation of Rwanda (FDLR)',\n",
       " 'Dissident Republicans',\n",
       " \"Donetsk People's Republic\",\n",
       " 'Earth Liberation Front (ELF)',\n",
       " 'Free Aceh Movement (GAM)',\n",
       " 'Free Syrian Army',\n",
       " 'Fulani extremists',\n",
       " 'Garo National Liberation Army',\n",
       " 'Gunmen',\n",
       " 'Hamas (Islamic Resistance Movement)',\n",
       " 'Haqqani Network',\n",
       " 'Hezbollah',\n",
       " 'Hizbul Mujahideen (HM)',\n",
       " 'Houthi extremists (Ansar Allah)',\n",
       " 'Hutu extremists',\n",
       " 'Irish Republican Army (IRA)',\n",
       " 'Islamic State of Iraq (ISI)',\n",
       " 'Islamic State of Iraq and the Levant (ISIL)',\n",
       " 'Islamist extremists',\n",
       " 'Jamaat-E-Islami (Bangladesh)',\n",
       " 'Janatantrik Terai Mukti Morcha- Jwala Singh (JTMM-J)',\n",
       " 'Janjaweed',\n",
       " 'Jemaah Islamiya (JI)',\n",
       " 'Jihadi-inspired extremists',\n",
       " 'Khorasan Chapter of the Islamic State',\n",
       " 'Kosovo Liberation Army (KLA)',\n",
       " \"Kurdistan Workers' Party (PKK)\",\n",
       " 'Lashkar-e-Islam (Pakistan)',\n",
       " 'Lashkar-e-Jhangvi',\n",
       " 'Lashkar-e-Taiba (LeT)',\n",
       " 'Liberation Tigers of Tamil Eelam (LTTE)',\n",
       " \"Lord's Resistance Army (LRA)\",\n",
       " \"Luhansk People's Republic\",\n",
       " 'Maoists',\n",
       " 'Militants',\n",
       " 'Moro Islamic Liberation Front (MILF)',\n",
       " 'Movement for the Emancipation of the Niger Delta (MEND)',\n",
       " 'Mozambique National Resistance Movement (MNR)',\n",
       " 'Muslim Militants',\n",
       " 'Muslim Separatists',\n",
       " 'Muslim extremists',\n",
       " 'Muttahida Qami Movement (MQM)',\n",
       " 'National Democratic Front of Bodoland (NDFB)',\n",
       " 'National Liberation Army of Colombia (ELN)',\n",
       " 'National Liberation Front of Tripura (NLFT)',\n",
       " 'National Socialist Council of Nagaland-Isak-Muivah (NSCN-IM)',\n",
       " 'National Union for the Total Independence of Angola (UNITA)',\n",
       " \"New People's Army (NPA)\",\n",
       " 'Opposition Group',\n",
       " 'Palestinian Extremists',\n",
       " 'Palestinian Islamic Jihad (PIJ)',\n",
       " \"Paraguayan People's Army (EPP)\",\n",
       " \"People's Liberation Army (India)\",\n",
       " \"People's War Group (PWG)\",\n",
       " 'Popular Front for the Liberation of Palestine (PFLP)',\n",
       " 'Pro Hartal Activists',\n",
       " 'Revolutionary Armed Forces of Colombia (FARC)',\n",
       " 'Runda Kumpulan Kecil (RKK)',\n",
       " 'Salafist Group for Preaching and Fighting (GSPC)',\n",
       " 'Separatists',\n",
       " 'Shining Path (SL)',\n",
       " 'Sinai Province of the Islamic State',\n",
       " 'Sindhu Desh Liberation Army (SDLA)',\n",
       " 'Southern Mobility Movement (Yemen)',\n",
       " \"Sudan People's Liberation Movement - North\",\n",
       " \"Sudan People's Liberation Movement in Opposition (SPLM-IO)\",\n",
       " 'Taliban',\n",
       " 'Tehrik-i-Taliban Pakistan (TTP)',\n",
       " 'Thai Islamic Militants',\n",
       " 'Tribesmen',\n",
       " 'Tripoli Province of the Islamic State',\n",
       " 'Uighur Separatists',\n",
       " 'United Baloch Army (UBA)',\n",
       " 'United Liberation Front of Assam (ULFA)',\n",
       " 'United Self Defense Units of Colombia (AUC)']"
      ]
     },
     "execution_count": 541,
     "metadata": {},
     "output_type": "execute_result"
    }
   ],
   "source": [
    "# View the labels\n",
    "list(le.classes_)"
   ]
  },
  {
   "cell_type": "code",
   "execution_count": 542,
   "metadata": {},
   "outputs": [
    {
     "data": {
      "text/plain": [
       "array([15, 15, 15, ..., 96, 25, 61])"
      ]
     },
     "execution_count": 542,
     "metadata": {},
     "output_type": "execute_result"
    }
   ],
   "source": [
    "# View the encoded values for th terrorist group names\n",
    "label_codes = le.transform(major_groups['gname'])\n",
    "label_codes"
   ]
  },
  {
   "cell_type": "code",
   "execution_count": 543,
   "metadata": {},
   "outputs": [
    {
     "data": {
      "text/plain": [
       "['Abu Sayyaf Group (ASG)',\n",
       " 'Al-Aqsa Martyrs Brigade',\n",
       " \"Al-Gama'at al-Islamiyya (IG)\",\n",
       " 'Communist Party of India - Maoist (CPI-Maoist)']"
      ]
     },
     "execution_count": 543,
     "metadata": {},
     "output_type": "execute_result"
    }
   ],
   "source": [
    "# Convert some integers into their category names\n",
    "list(le.inverse_transform([0, 1, 2, 27]))"
   ]
  },
  {
   "cell_type": "markdown",
   "metadata": {},
   "source": [
    "### Create Training and Testing Datasets\n",
    "The original dataset is split into 80% training and 20% testing."
   ]
  },
  {
   "cell_type": "code",
   "execution_count": 544,
   "metadata": {},
   "outputs": [],
   "source": [
    "# Seed for reproducible results\n",
    "seed = 1009\n",
    "\n",
    "# Predictor variables\n",
    "X = pd.get_dummies(major_groups.drop(['gname'], axis=1), drop_first=True)\n",
    "\n",
    "# Labels\n",
    "y = label_codes\n",
    "\n",
    "# Create an 80/20 split for training and testing data\n",
    "X_train, X_test, y_train, y_test = train_test_split(X, y, test_size = 0.2, random_state = seed, stratify = y)"
   ]
  },
  {
   "cell_type": "markdown",
   "metadata": {},
   "source": [
    "### Initial Random Forest Model\n",
    "Create the initial model using 100 estimators."
   ]
  },
  {
   "cell_type": "code",
   "execution_count": 545,
   "metadata": {},
   "outputs": [
    {
     "name": "stdout",
     "output_type": "stream",
     "text": [
      "Execution Seconds: 4.335899114608765\n",
      "\n",
      "\n",
      "RandomForestClassifier(bootstrap=True, class_weight=None, criterion='gini',\n",
      "            max_depth=None, max_features='auto', max_leaf_nodes=None,\n",
      "            min_impurity_decrease=0.0, min_impurity_split=None,\n",
      "            min_samples_leaf=1, min_samples_split=2,\n",
      "            min_weight_fraction_leaf=0.0, n_estimators=100, n_jobs=-1,\n",
      "            oob_score=False, random_state=1009, verbose=0,\n",
      "            warm_start=False)\n"
     ]
    }
   ],
   "source": [
    "start = time.time()\n",
    "\n",
    "# Create the model\n",
    "rf1 = RandomForestClassifier(n_estimators = 100, n_jobs = -1, random_state = seed)\n",
    "\n",
    "# Fit it to the training data\n",
    "rf1.fit(X_train, y_train)\n",
    "\n",
    "end = time.time()\n",
    "print(\"Execution Seconds: {}\".format((end - start)))\n",
    "print(\"\\n\")\n",
    "print(rf1)"
   ]
  },
  {
   "cell_type": "markdown",
   "metadata": {},
   "source": [
    "### Feature Importance\n",
    "Display the top 50 features by importance in descending order."
   ]
  },
  {
   "cell_type": "code",
   "execution_count": 546,
   "metadata": {},
   "outputs": [
    {
     "name": "stdout",
     "output_type": "stream",
     "text": [
      "\n",
      "Number of Features: 603\n",
      "\n",
      "Features Ranking - Top 50:\n",
      "\n",
      "(0.087249094998451807, 'latitude')\n",
      "(0.086527538470334134, 'longitude')\n",
      "(0.040965442988175206, 'iyear')\n",
      "(0.033517181497532363, 'region_txt_South Asia')\n",
      "(0.022723377886245847, 'INT_IDEO_txt_YES')\n",
      "(0.022439174305131301, 'region_txt_Middle East & North Africa')\n",
      "(0.022361021893889586, 'INT_ANY_txt_YES')\n",
      "(0.019951694536712278, 'natlty1_txt_Iraq')\n",
      "(0.019722381100048009, 'country_txt_Somalia')\n",
      "(0.018071610695185609, 'region_txt_Sub-Saharan Africa')\n",
      "(0.017443932635588487, 'country_txt_Iraq')\n",
      "(0.016287435428150886, 'natlty1_txt_India')\n",
      "(0.016043516049272035, 'INT_LOG_txt_UKNOWN')\n",
      "(0.01570830603462409, 'iday')\n",
      "(0.015607292792307905, 'INT_ANY_txt_UKNOWN')\n",
      "(0.015123946294818027, 'country_txt_Nigeria')\n",
      "(0.015019914874421822, 'imonth')\n",
      "(0.014684356344748066, 'country_txt_Pakistan')\n",
      "(0.014238596568301938, 'natlty1_txt_Pakistan')\n",
      "(0.013678514180993249, 'INT_IDEO_txt_UKNOWN')\n",
      "(0.013013589919364174, 'country_txt_India')\n",
      "(0.012199130311359876, 'natlty1_txt_Somalia')\n",
      "(0.012169745691603163, 'nkill')\n",
      "(0.011412552182997025, 'natlty1_txt_Nigeria')\n",
      "(0.010092305751138553, 'nwound')\n",
      "(0.0096037662829851003, 'natlty1_txt_Turkey')\n",
      "(0.0091847072136868897, 'country_txt_Yemen')\n",
      "(0.0090462580980295321, 'country_txt_Turkey')\n",
      "(0.0087663186761156777, 'natlty1_txt_Colombia')\n",
      "(0.0086292961073758528, 'region_txt_South America')\n",
      "(0.0085314486746167536, 'natlty1_txt_Yemen')\n",
      "(0.0080182565174451333, 'natlty1_txt_Sri Lanka')\n",
      "(0.0079033258636016842, 'country_txt_Sri Lanka')\n",
      "(0.0077385094583120239, 'country_txt_Colombia')\n",
      "(0.0076613840446300751, 'country_txt_Philippines')\n",
      "(0.007600727217864897, 'region_txt_Southeast Asia')\n",
      "(0.0073925446463885547, 'claimed_txt_YES')\n",
      "(0.0070955671771751085, 'guncertain1_txt_YES')\n",
      "(0.0068492185315373591, 'natlty1_txt_Philippines')\n",
      "(0.0064623735590234868, 'INT_LOG_txt_YES')\n",
      "(0.0056236808027787773, 'claimed_txt_UKNOWN')\n",
      "(0.0054395320762859831, 'region_txt_Eastern Europe')\n",
      "(0.0053672762020934026, 'multiple_txt_YES')\n",
      "(0.0049507118007307751, 'property_txt_YES')\n",
      "(0.0046818247197271626, 'targtype1_txt_Private Citizens & Property')\n",
      "(0.0044386217993294128, 'specificity_3.0')\n",
      "(0.004413907289830446, 'attacktype1_txt_Bombing/Explosion')\n",
      "(0.004396535200438814, 'weaptype1_txt_Explosives/Bombs/Dynamite')\n",
      "(0.0042471818950141947, 'INT_MISC_txt_YES')\n",
      "(0.0042242173992900825, 'guncertain1_txt_UKNOWN')\n"
     ]
    }
   ],
   "source": [
    "# Get the modified column names with one hot encoding\n",
    "column_names = list(X_train.columns.values)\n",
    "\n",
    "# Create a descending sorted list of variables by featur importance\n",
    "var_imp = sorted(zip(map(lambda x: x, rf1.feature_importances_), column_names), \n",
    "             reverse = True)\n",
    "\n",
    "print(\"\\nNumber of Features: {}\".format(len(var_imp)))\n",
    "\n",
    "print(\"\\nFeatures Ranking - Top 50:\\n\")\n",
    "for f in var_imp[0:50]:\n",
    "    print(f)"
   ]
  },
  {
   "cell_type": "code",
   "execution_count": 547,
   "metadata": {},
   "outputs": [
    {
     "data": {
      "image/png": "[encoded data removed]",
      "text/plain": [
       "<matplotlib.figure.Figure at 0x1abcec1208>"
      ]
     },
     "metadata": {},
     "output_type": "display_data"
    }
   ],
   "source": [
    "# Get the features, standard deviation and indices\n",
    "importances = rf1.feature_importances_\n",
    "std = np.std([tree.feature_importances_ for tree in rf1.estimators_], axis=0)\n",
    "indices = np.argsort(importances)[::-1]\n",
    "\n",
    "# Filter to the top 50\n",
    "top_n = 50\n",
    "top_n_importances = importances[indices][0:top_n]\n",
    "top_n_std = std[0:top_n]\n",
    "top_n_indices = indices[0:top_n]\n",
    "\n",
    "# Create a list of x labels\n",
    "x_labels = [column_names[t] for t in top_n_indices]\n",
    "\n",
    "# Plot the results\n",
    "plt.figure()\n",
    "plt.title(\"Feature Importances - Top 50\",  fontsize=20)\n",
    "plt.bar(range(top_n), top_n_importances, color=\"firebrick\", yerr = top_n_std, align=\"center\")\n",
    "plt.xticks(rotation=90)\n",
    "plt.xticks(range(top_n), x_labels)\n",
    "plt.xlim([-1, top_n])\n",
    "plt.show()"
   ]
  },
  {
   "cell_type": "markdown",
   "metadata": {},
   "source": [
    "### Model Performance\n",
    "Calculate the accuracy, precision, and F1 scores for the model."
   ]
  },
  {
   "cell_type": "code",
   "execution_count": 548,
   "metadata": {},
   "outputs": [
    {
     "name": "stdout",
     "output_type": "stream",
     "text": [
      "\n",
      "Accuracy: 0.9308943089430894\n",
      "\n",
      "Precision: 0.9308460369642759\n",
      "\n",
      "Recall: 0.9308943089430894\n",
      "\n",
      "F1: 0.9263998944054898\n"
     ]
    }
   ],
   "source": [
    "# Predict labels on the test dataset\n",
    "pred_lables1 = rf1.predict(X_test)\n",
    "\n",
    "# Calculate the accuracy of the model\n",
    "acc_score1 = accuracy_score(y_test, pred_lables1)\n",
    "print(\"\\nAccuracy: {}\".format(acc_score1))\n",
    "\n",
    "# Calculate the precision of the model\n",
    "prec_score1 = precision_score(y_test, pred_lables1, average='weighted')\n",
    "print(\"\\nPrecision: {}\".format(prec_score1))\n",
    "\n",
    "# Calculate the precision of the model\n",
    "rcll_score1 = recall_score(y_test, pred_lables1, average='weighted')\n",
    "print(\"\\nRecall: {}\".format(rcll_score1))\n",
    "\n",
    "# Calculate the F1 of the model\n",
    "f1_score1 = f1_score(y_test, pred_lables1, average='weighted')\n",
    "print(\"\\nF1: {}\".format(f1_score1))"
   ]
  },
  {
   "cell_type": "code",
   "execution_count": null,
   "metadata": {
    "collapsed": true
   },
   "outputs": [],
   "source": []
  },
  {
   "cell_type": "markdown",
   "metadata": {},
   "source": [
    "### References\n",
    "\n",
    "Albon, C. (2017). Convert Pandas categorical data for scikit-learn Retrieved from https://chrisalbon.com/machine_learning/preprocessing_structured_data/convert_pandas_categorical_column_into_integers_for_scikit-learn/\n",
    "\n",
    "Keen, B. (2017). Feature scaling with scikit-learn Retrieved from http://benalexkeen.com/feature-scaling-with-scikit-learn/\n",
    "\n",
    "Saabas, A. (2014). Selecting good features – Part III: random forests Retrieved from http://blog.datadive.net/selecting-good-features-part-iii-random-forests/\n",
    "\n",
    "scikit-learn. (n.d.). Feature importances with forests of trees Retrieved from http://scikit-learn.org/stable/auto_examples/ensemble/plot_forest_importances.html#sphx-glr-auto-examples-ensemble-plot-forest-importances-py"
   ]
  }
 ],
 "metadata": {
  "kernelspec": {
   "display_name": "Python 3",
   "language": "python",
   "name": "python3"
  },
  "language_info": {
   "codemirror_mode": {
    "name": "ipython",
    "version": 3
   },
   "file_extension": ".py",
   "mimetype": "text/x-python",
   "name": "python",
   "nbconvert_exporter": "python",
   "pygments_lexer": "ipython3",
   "version": "3.6.3"
  }
 },
 "nbformat": 4,
 "nbformat_minor": 2
}
