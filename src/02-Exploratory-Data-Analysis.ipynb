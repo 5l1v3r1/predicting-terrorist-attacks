{
 "cells": [
  {
   "cell_type": "markdown",
   "metadata": {},
   "source": [
    "# Predicting Terrorist Attacks\n",
    "## Exploratory Data Analysis\n",
    "\n",
    "**Author:** Thomas Skowronek\n",
    "\n",
    "**Date:** March 23, 2018"
   ]
  },
  {
   "cell_type": "markdown",
   "metadata": {},
   "source": [
    "### Notebook Configuration"
   ]
  },
  {
   "cell_type": "code",
   "execution_count": 129,
   "metadata": {
    "collapsed": true
   },
   "outputs": [],
   "source": [
    "import pandas as pd\n",
    "import numpy as np\n",
    "import matplotlib as mpl\n",
    "import matplotlib.pyplot as plt\n",
    "import seaborn as sns"
   ]
  },
  {
   "cell_type": "code",
   "execution_count": 130,
   "metadata": {},
   "outputs": [],
   "source": [
    "# Configure notebook output\n",
    "from IPython.core.interactiveshell import InteractiveShell\n",
    "InteractiveShell.ast_node_interactivity = \"all\"\n",
    "\n",
    "# Display up to 150 rows and columns\n",
    "pd.set_option('display.max_rows', 150)\n",
    "pd.set_option('display.max_columns', 150)\n",
    "\n",
    "# Set the figure size for plots\n",
    "mpl.rcParams['figure.figsize'] = (14.6, 9.0)\n",
    "\n",
    "# Set the Seaborn default style for plots\n",
    "sns.set()\n",
    "\n",
    "# Set the color palette\n",
    "sns.set_palette(sns.color_palette(\"muted\"))"
   ]
  },
  {
   "cell_type": "markdown",
   "metadata": {},
   "source": [
    "### Load the Datasets\n",
    "Load the dataset created by the preprocessing notebook."
   ]
  },
  {
   "cell_type": "code",
   "execution_count": 131,
   "metadata": {
    "collapsed": true
   },
   "outputs": [],
   "source": [
    "# Load the preprocessed GTD dataset\n",
    "gtd_df = pd.read_csv('../data/gtd_preprocessed_95t016.csv', low_memory=False, index_col = 0,\n",
    "                      na_values=[''])"
   ]
  },
  {
   "cell_type": "markdown",
   "metadata": {},
   "source": [
    "### Inspect the Structure\n",
    "The cleansed data frame contains 48 attributes, one of which is used for the data frame index, and 112,251 observations."
   ]
  },
  {
   "cell_type": "code",
   "execution_count": 132,
   "metadata": {},
   "outputs": [
    {
     "name": "stdout",
     "output_type": "stream",
     "text": [
      "<class 'pandas.core.frame.DataFrame'>\n",
      "Int64Index: 112251 entries, 199501000001 to 201701270001\n",
      "Data columns (total 47 columns):\n",
      "iyear               112251 non-null int64\n",
      "imonth              112251 non-null int64\n",
      "iday                112251 non-null int64\n",
      "country_txt         112251 non-null object\n",
      "region_txt          112251 non-null object\n",
      "provstate           112251 non-null object\n",
      "city                112251 non-null object\n",
      "latitude            110844 non-null float64\n",
      "longitude           110844 non-null float64\n",
      "specificity         112251 non-null float64\n",
      "summary             112251 non-null object\n",
      "attacktype1_txt     112251 non-null object\n",
      "targtype1_txt       112251 non-null object\n",
      "targsubtype1_txt    112251 non-null object\n",
      "corp1               112251 non-null object\n",
      "target1             112251 non-null object\n",
      "natlty1_txt         112251 non-null object\n",
      "gname               112251 non-null object\n",
      "nperpcap            98849 non-null float64\n",
      "weaptype1_txt       112251 non-null object\n",
      "weapsubtype1_txt    112251 non-null object\n",
      "nkill               108475 non-null float64\n",
      "nkillus             102809 non-null float64\n",
      "nkillter            100753 non-null float64\n",
      "nwound              104695 non-null float64\n",
      "nwoundus            102609 non-null float64\n",
      "nwoundte            98979 non-null float64\n",
      "scite1              112251 non-null object\n",
      "dbsource            112251 non-null object\n",
      "extended_txt        112251 non-null object\n",
      "vicinity_txt        112251 non-null object\n",
      "crit1_txt           112251 non-null object\n",
      "crit2_txt           112251 non-null object\n",
      "crit3_txt           112251 non-null object\n",
      "doubtterr_txt       112251 non-null object\n",
      "multiple_txt        112251 non-null object\n",
      "success_txt         112251 non-null object\n",
      "suicide_txt         112251 non-null object\n",
      "guncertain1_txt     112251 non-null object\n",
      "individual_txt      112251 non-null object\n",
      "claimed_txt         112251 non-null object\n",
      "property_txt        112251 non-null object\n",
      "ishostkid_txt       112251 non-null object\n",
      "INT_LOG_txt         112251 non-null object\n",
      "INT_IDEO_txt        112251 non-null object\n",
      "INT_MISC_txt        112251 non-null object\n",
      "INT_ANY_txt         112251 non-null object\n",
      "dtypes: float64(10), int64(3), object(34)\n",
      "memory usage: 41.1+ MB\n"
     ]
    }
   ],
   "source": [
    "# Display a summary of the data frame\n",
    "gtd_df.info(verbose = True)"
   ]
  },
  {
   "cell_type": "markdown",
   "metadata": {},
   "source": [
    "### Code Book\n",
    "Python interprets the data types differently than the code book provided by START.\n",
    "\n",
    "|ATTRIBUTE|PYTHON DTYPE|CODE BOOK TYPE|DEFINITION|\n",
    "|:----------------|:--------|:------------|:---------------------------------------|\n",
    "|eventid|int64|Numeric|12-digit Event ID system. First 8 numbers - date recorded \"yyyymmdd\". Last 4 numbers - sequential case number for the given day|\n",
    "|iyear|int64|Numeric|The year in which the incident occurred|\n",
    "|imonth|int64|Numeric|The month in which the incident occurred.  When the exact month of the incident is unknown, this will be recorded as \"0\".|\n",
    "|iday|int64|Numeric|The numeric day of the month on which the incident occurred.  When the exact day of the incident is unknown, the field is recorded as \"0\".|\n",
    "|extended|object|Categorical|The duration of an incident extended more than 24 hours.  1 = YES, 0 = NO|\n",
    "|country_txt|object|Categorical|Identifies the country or location where the incident occurred.  When incident occurred cannot be identified, it is coded as \"Unknown.|\n",
    "|region_txt|object|Categorical|Identifies the region in which the incident occurred, and divided into 1 of 12 categories|\n",
    "|provstate|object|Text|The name (at the time of event) of the 1st order subnational administrative region in which the event occurs|\n",
    "|city|object|Text|The name of the city, village, or town in which the incident occurred.  If unknown, then this field contains the smallest administrative area below provstate|\n",
    "|latitude|float64|Numeric|The latitude (based on WGS1984 standards) of the city in which the event occurred|\n",
    "|longitude|float64|Numeric|The longitude (based on WGS1984 standards) of the city in which the event occurred.|\n",
    "|specificity|float64|Categorical|Identifies the geospatial resolution of the latitude and longitude fields. 1 to 5|\n",
    "|vicinity|object|Categorical|1 = YES, The incident occurred in the immediate vicinity of the city in question.  0 = NO, The incident in the city itself.|\n",
    "|summary|object|Text|A brief narrative summary of the incident, noting the \"when, where, who, what, how, and why.|\n",
    "|crit1|object|Categorical|The violent act must be aimed at attaining a political, economic, religious, or social goal. 1 = YES, 0 = NO|\n",
    "|crit2|object|Categorical|There must be evidence of an intention to coerce, intimidate, or convey some other message to a larger audience than the immediate victims. 1 = YES, 0 = NO|\n",
    "|crit3|object|Categorical|The action is outside the context of legitimate warfare activities, insofar as it targets non-combatants.  1 = YES, 0 = NO|\n",
    "|doubtterr|object|Categorical|There is doubt as to whether the incident is an act of terrorism.  1 = YES, 0 = NO|\n",
    "|multiple|object|Categorical|Denote that the particular attack was part of a \"multiple\" incident.  1 = YES, 0 = NO|\n",
    "|success|object|Categorical|A successful attack depends on the type of attack. The key question is whether or not the attack type took place.  1 = YES, 0 = NO|\n",
    "|suicide|object|Categorical|Coded \"Yes\" in those cases where there is evidence that the perpetrator did not intend to escape from the attack alive. 1 = YES, 0 = NO|\n",
    "|attacktype1_txt|object|Categorical|The general method of attack and often reflects the broad class of tactics used. 9 categories|\n",
    "|targtype1_txt|object|Categorical|The general type of target/victim.  22 categories|\n",
    "|targsubtype1_txt|object|Categorical|The more specific target category and provides the next level of designation for each target type. If a target subtype is not applicable this variable is left blank|\n",
    "|corp1|object|Text|The corporate entity or government agency that was targeted|\n",
    "|target1|object|Text|The specific person, building, installation, etc., that was targeted and/or victimized|\n",
    "|natlty1_txt|object|Categorical|The nationality of the target that was attacked.  For hijacking incidents, the nationality of the plane is recorded|\n",
    "|gname|object|Text|The name of the group that carried out the attack|\n",
    "|guncertain1|object|Categorical|Indicates whether or not the information reported about the Perpetrator Group Name(s) is based on speculation or dubious claims of responsibility.  1 = YES, 0 = NO|\n",
    "|individual|object|Categorical|Indicates whether or not the attack was carried out by an individual or several individuals not known to be affiliated with a group or organization. 1 = YES, 0 = NO|\n",
    "|nperpcap|float64|Numeric|The number of perpetrators taken into custody. \"-99\" or \"Unknown\" appears when there is evidence of captured, but the number is not reported|\n",
    "|claimed|object|Categorical|Indicates whether a group or person(s) claimed responsibility for the attack.  1 = YES, 0 = NO|\n",
    "|weaptype1_txt|object|Categorical|Records the general type of weapon used in the incident.  Up to four weapon types are recorded for each incident|\n",
    "|weapsubtype1_txt|object|Categorical|A more specific value for most of the Weapon Types identified|\n",
    "|nkill|float64|Numeric|Total confirmed fatalities for the incident|\n",
    "|nkillus|float64|Numeric|The number of U.S. citizens who died as a result of the incident|\n",
    "|nkillter|float64|Numeric|Limited to only perpetrator fatalities|\n",
    "|nwound|float64|Numeric|The number of confirmed non-fatal injuries to both perpetrators and victims|\n",
    "|nwoundus|float64|Numeric|The number of confirmed non-fatal injuries to U.S. citizens, both perpetrators and victims|\n",
    "|nwoundte|float64|Numeric|Number of Perpetrators Injured|\n",
    "|property|object|Categorical|There is evidence of property damage from the incident.  1 = YES, 0 = NO|\n",
    "|ishostkid|object|Categorical|Whether or not the victims were taken hostage or kidnapped during an incident. 1 = YES, 0 = NO|\n",
    "|scite1|object|Text|Cites the first source that was used to compile information on the specific incident|\n",
    "|dbsource|object|Text|Identifies the original data collection effort in which each event was recorded|\n",
    "|INT_LOG|object|Categorical|It indicates whether a perpetrator group crossed a border to carry out an attack (logistically international).  1 = YES, 0 = NO, -9=UNKNOWN|\n",
    "|INT_IDEO|object|Categorical|It indicates whether a perpetrator group attacked a target of a different nationality (ideologically international). 1 = YES, 0 = NO, -9=UNKNOWN|\n",
    "|INT_MISC|object|Categorical|It indicates whether a perpetrator group attacked a target of a different nationality (not clear if logistically or ideologically international) 1 = YES, 0 = NO, -9=UNKNOWN|\n",
    "|INT_ANY|object|Categorical|The attack was international on any of the dimensions.  1 = YES, 0 = NO, -9=UNKNOWN|\n",
    "\n",
    "\n",
    "**NOTE 1:** *For categorical variables, -9 was replaced with -1 per a recommendation from Dr. George at Regis University.*\n",
    "\n",
    "**NOTE 2:** *For attributes containing 1, 0, and -1, they were replaced with a labeled version of the attribute and can be identified by a `_txt` suffix in the data frame.*"
   ]
  },
  {
   "cell_type": "markdown",
   "metadata": {},
   "source": [
    "### Convert Attributes to Categorical\n",
    "Convert a subset of the data frame attributes to categorical to align with the GTD code book. Converting attributes to categorical reduces memory requirements and notifies other libraries to treat the attribute accordingly (Pandas, n.d.).  For the GTD data frame, it results in a percent decrease of 36.5%."
   ]
  },
  {
   "cell_type": "code",
   "execution_count": 133,
   "metadata": {},
   "outputs": [
    {
     "name": "stdout",
     "output_type": "stream",
     "text": [
      "<class 'pandas.core.frame.DataFrame'>\n",
      "Int64Index: 112251 entries, 199501000001 to 201701270001\n",
      "Data columns (total 47 columns):\n",
      "iyear               112251 non-null int64\n",
      "imonth              112251 non-null int64\n",
      "iday                112251 non-null int64\n",
      "country_txt         112251 non-null category\n",
      "region_txt          112251 non-null category\n",
      "provstate           112251 non-null object\n",
      "city                112251 non-null object\n",
      "latitude            110844 non-null float64\n",
      "longitude           110844 non-null float64\n",
      "specificity         112251 non-null category\n",
      "summary             112251 non-null object\n",
      "attacktype1_txt     112251 non-null category\n",
      "targtype1_txt       112251 non-null category\n",
      "targsubtype1_txt    112251 non-null category\n",
      "corp1               112251 non-null object\n",
      "target1             112251 non-null object\n",
      "natlty1_txt         112251 non-null category\n",
      "gname               112251 non-null object\n",
      "nperpcap            98849 non-null float64\n",
      "weaptype1_txt       112251 non-null category\n",
      "weapsubtype1_txt    112251 non-null category\n",
      "nkill               108475 non-null float64\n",
      "nkillus             102809 non-null float64\n",
      "nkillter            100753 non-null float64\n",
      "nwound              104695 non-null float64\n",
      "nwoundus            102609 non-null float64\n",
      "nwoundte            98979 non-null float64\n",
      "scite1              112251 non-null object\n",
      "dbsource            112251 non-null object\n",
      "extended_txt        112251 non-null category\n",
      "vicinity_txt        112251 non-null category\n",
      "crit1_txt           112251 non-null category\n",
      "crit2_txt           112251 non-null category\n",
      "crit3_txt           112251 non-null category\n",
      "doubtterr_txt       112251 non-null category\n",
      "multiple_txt        112251 non-null category\n",
      "success_txt         112251 non-null category\n",
      "suicide_txt         112251 non-null category\n",
      "guncertain1_txt     112251 non-null category\n",
      "individual_txt      112251 non-null category\n",
      "claimed_txt         112251 non-null category\n",
      "property_txt        112251 non-null category\n",
      "ishostkid_txt       112251 non-null category\n",
      "INT_LOG_txt         112251 non-null category\n",
      "INT_IDEO_txt        112251 non-null category\n",
      "INT_MISC_txt        112251 non-null category\n",
      "INT_ANY_txt         112251 non-null category\n",
      "dtypes: category(27), float64(9), int64(3), object(8)\n",
      "memory usage: 21.1+ MB\n"
     ]
    }
   ],
   "source": [
    "# List of attributes that are categorical\n",
    "cat_attrs = ['extended_txt', 'country_txt', 'region_txt', 'specificity', 'vicinity_txt',\n",
    "             'crit1_txt', 'crit2_txt', 'crit3_txt', 'doubtterr_txt', 'multiple_txt',\n",
    "             'success_txt', 'suicide_txt', 'attacktype1_txt', 'targtype1_txt', \n",
    "             'targsubtype1_txt', 'natlty1_txt', 'guncertain1_txt', 'individual_txt', \n",
    "             'claimed_txt', 'weaptype1_txt', 'weapsubtype1_txt', 'property_txt', \n",
    "             'ishostkid_txt', 'INT_LOG_txt', 'INT_IDEO_txt','INT_MISC_txt', 'INT_ANY_txt']\n",
    "\n",
    "for cat in cat_attrs:\n",
    "    gtd_df[cat] = gtd_df[cat].astype('category')\n",
    "    \n",
    "gtd_df.info(verbose = True)"
   ]
  },
  {
   "cell_type": "markdown",
   "metadata": {},
   "source": [
    "### Summary Statistics\n",
    "Each of the numeric attributes contain missing values ranging between 3.36% and 11.92%.  The following table depicts the summary statistics prior to imputation."
   ]
  },
  {
   "cell_type": "code",
   "execution_count": 134,
   "metadata": {},
   "outputs": [
    {
     "data": {
      "text/html": [
       "<div>\n",
       "<style>\n",
       "    .dataframe thead tr:only-child th {\n",
       "        text-align: right;\n",
       "    }\n",
       "\n",
       "    .dataframe thead th {\n",
       "        text-align: left;\n",
       "    }\n",
       "\n",
       "    .dataframe tbody tr th {\n",
       "        vertical-align: top;\n",
       "    }\n",
       "</style>\n",
       "<table border=\"1\" class=\"dataframe\">\n",
       "  <thead>\n",
       "    <tr style=\"text-align: right;\">\n",
       "      <th></th>\n",
       "      <th>count</th>\n",
       "      <th>mean</th>\n",
       "      <th>std</th>\n",
       "      <th>min</th>\n",
       "      <th>10%</th>\n",
       "      <th>20%</th>\n",
       "      <th>30%</th>\n",
       "      <th>40%</th>\n",
       "      <th>50%</th>\n",
       "      <th>60%</th>\n",
       "      <th>70%</th>\n",
       "      <th>80%</th>\n",
       "      <th>90%</th>\n",
       "      <th>100%</th>\n",
       "      <th>max</th>\n",
       "    </tr>\n",
       "  </thead>\n",
       "  <tbody>\n",
       "    <tr>\n",
       "      <th>nperpcap</th>\n",
       "      <td>90348.0</td>\n",
       "      <td>0.117900</td>\n",
       "      <td>1.910558</td>\n",
       "      <td>0.0</td>\n",
       "      <td>0.0</td>\n",
       "      <td>0.0</td>\n",
       "      <td>0.0</td>\n",
       "      <td>0.0</td>\n",
       "      <td>0.0</td>\n",
       "      <td>0.0</td>\n",
       "      <td>0.0</td>\n",
       "      <td>0.0</td>\n",
       "      <td>0.0</td>\n",
       "      <td>406.0</td>\n",
       "      <td>406.0</td>\n",
       "    </tr>\n",
       "    <tr>\n",
       "      <th>nkill</th>\n",
       "      <td>90348.0</td>\n",
       "      <td>1.928288</td>\n",
       "      <td>6.840954</td>\n",
       "      <td>0.0</td>\n",
       "      <td>0.0</td>\n",
       "      <td>0.0</td>\n",
       "      <td>0.0</td>\n",
       "      <td>0.0</td>\n",
       "      <td>1.0</td>\n",
       "      <td>1.0</td>\n",
       "      <td>1.0</td>\n",
       "      <td>2.0</td>\n",
       "      <td>4.0</td>\n",
       "      <td>670.0</td>\n",
       "      <td>670.0</td>\n",
       "    </tr>\n",
       "    <tr>\n",
       "      <th>nkillus</th>\n",
       "      <td>90348.0</td>\n",
       "      <td>0.010404</td>\n",
       "      <td>0.284529</td>\n",
       "      <td>0.0</td>\n",
       "      <td>0.0</td>\n",
       "      <td>0.0</td>\n",
       "      <td>0.0</td>\n",
       "      <td>0.0</td>\n",
       "      <td>0.0</td>\n",
       "      <td>0.0</td>\n",
       "      <td>0.0</td>\n",
       "      <td>0.0</td>\n",
       "      <td>0.0</td>\n",
       "      <td>44.0</td>\n",
       "      <td>44.0</td>\n",
       "    </tr>\n",
       "    <tr>\n",
       "      <th>nkillter</th>\n",
       "      <td>90348.0</td>\n",
       "      <td>0.303803</td>\n",
       "      <td>2.559151</td>\n",
       "      <td>0.0</td>\n",
       "      <td>0.0</td>\n",
       "      <td>0.0</td>\n",
       "      <td>0.0</td>\n",
       "      <td>0.0</td>\n",
       "      <td>0.0</td>\n",
       "      <td>0.0</td>\n",
       "      <td>0.0</td>\n",
       "      <td>0.0</td>\n",
       "      <td>0.0</td>\n",
       "      <td>500.0</td>\n",
       "      <td>500.0</td>\n",
       "    </tr>\n",
       "    <tr>\n",
       "      <th>nwound</th>\n",
       "      <td>90348.0</td>\n",
       "      <td>3.435162</td>\n",
       "      <td>13.542081</td>\n",
       "      <td>0.0</td>\n",
       "      <td>0.0</td>\n",
       "      <td>0.0</td>\n",
       "      <td>0.0</td>\n",
       "      <td>0.0</td>\n",
       "      <td>0.0</td>\n",
       "      <td>1.0</td>\n",
       "      <td>2.0</td>\n",
       "      <td>4.0</td>\n",
       "      <td>8.0</td>\n",
       "      <td>1500.0</td>\n",
       "      <td>1500.0</td>\n",
       "    </tr>\n",
       "    <tr>\n",
       "      <th>nwoundus</th>\n",
       "      <td>90348.0</td>\n",
       "      <td>0.013614</td>\n",
       "      <td>0.658389</td>\n",
       "      <td>0.0</td>\n",
       "      <td>0.0</td>\n",
       "      <td>0.0</td>\n",
       "      <td>0.0</td>\n",
       "      <td>0.0</td>\n",
       "      <td>0.0</td>\n",
       "      <td>0.0</td>\n",
       "      <td>0.0</td>\n",
       "      <td>0.0</td>\n",
       "      <td>0.0</td>\n",
       "      <td>151.0</td>\n",
       "      <td>151.0</td>\n",
       "    </tr>\n",
       "    <tr>\n",
       "      <th>nwoundte</th>\n",
       "      <td>90348.0</td>\n",
       "      <td>0.103898</td>\n",
       "      <td>1.522910</td>\n",
       "      <td>0.0</td>\n",
       "      <td>0.0</td>\n",
       "      <td>0.0</td>\n",
       "      <td>0.0</td>\n",
       "      <td>0.0</td>\n",
       "      <td>0.0</td>\n",
       "      <td>0.0</td>\n",
       "      <td>0.0</td>\n",
       "      <td>0.0</td>\n",
       "      <td>0.0</td>\n",
       "      <td>200.0</td>\n",
       "      <td>200.0</td>\n",
       "    </tr>\n",
       "  </tbody>\n",
       "</table>\n",
       "</div>"
      ],
      "text/plain": [
       "            count      mean        std  min  10%  20%  30%  40%  50%  60%  \\\n",
       "nperpcap  90348.0  0.117900   1.910558  0.0  0.0  0.0  0.0  0.0  0.0  0.0   \n",
       "nkill     90348.0  1.928288   6.840954  0.0  0.0  0.0  0.0  0.0  1.0  1.0   \n",
       "nkillus   90348.0  0.010404   0.284529  0.0  0.0  0.0  0.0  0.0  0.0  0.0   \n",
       "nkillter  90348.0  0.303803   2.559151  0.0  0.0  0.0  0.0  0.0  0.0  0.0   \n",
       "nwound    90348.0  3.435162  13.542081  0.0  0.0  0.0  0.0  0.0  0.0  1.0   \n",
       "nwoundus  90348.0  0.013614   0.658389  0.0  0.0  0.0  0.0  0.0  0.0  0.0   \n",
       "nwoundte  90348.0  0.103898   1.522910  0.0  0.0  0.0  0.0  0.0  0.0  0.0   \n",
       "\n",
       "          70%  80%  90%    100%     max  \n",
       "nperpcap  0.0  0.0  0.0   406.0   406.0  \n",
       "nkill     1.0  2.0  4.0   670.0   670.0  \n",
       "nkillus   0.0  0.0  0.0    44.0    44.0  \n",
       "nkillter  0.0  0.0  0.0   500.0   500.0  \n",
       "nwound    2.0  4.0  8.0  1500.0  1500.0  \n",
       "nwoundus  0.0  0.0  0.0   151.0   151.0  \n",
       "nwoundte  0.0  0.0  0.0   200.0   200.0  "
      ]
     },
     "execution_count": 134,
     "metadata": {},
     "output_type": "execute_result"
    }
   ],
   "source": [
    "gtd_df[['nperpcap', 'nkill', 'nkillus', 'nkillter', 'nwound', \n",
    "        'nwoundus', 'nwoundte']].dropna().describe(\n",
    "    percentiles = [0.10, 0.20, 0.30, 0.40, 0.50, 0.60, 0.70, 0.80, 0.90, 1.0]).transpose()"
   ]
  },
  {
   "attachments": {},
   "cell_type": "markdown",
   "metadata": {},
   "source": [
    "### Imputation\n",
    "A threshold of greater than three standard deviations is used to identify attributes with outliers.  Since the mean is not robust and is affected by outliers, the median is recommended for imputation (Chen, n.d.).  The following function imputes the median if an attribute contains outliers, otherwise the attribute mean is imputed. "
   ]
  },
  {
   "cell_type": "code",
   "execution_count": 135,
   "metadata": {
    "collapsed": true
   },
   "outputs": [],
   "source": [
    "# Function to impute either the median or mean\n",
    "def fill_value(attr):\n",
    "    fill = 0.0\n",
    "    threshold = 3\n",
    "    attr_clean = attr.dropna()\n",
    "    attr_std = attr_clean.std()\n",
    "    outliers = attr_clean[attr_clean > (threshold * attr_std)]\n",
    "    \n",
    "    if (outliers.count() > 0):\n",
    "        fill = attr_clean.median()\n",
    "    else:\n",
    "        fill = attr_clean.mean()\n",
    "    \n",
    "    return fill"
   ]
  },
  {
   "cell_type": "code",
   "execution_count": 136,
   "metadata": {},
   "outputs": [],
   "source": [
    "# Impute each of the numeric attributes that contain missing values\n",
    "gtd_df['nperpcap'] = gtd_df['nperpcap'].fillna(fill_value(gtd_df['nperpcap']))\n",
    "gtd_df['nkill'] = gtd_df['nkill'].fillna(fill_value(gtd_df['nkill']))\n",
    "gtd_df['nkillus'] = gtd_df['nkillus'].fillna(fill_value(gtd_df['nkillus']))\n",
    "gtd_df['nkillter'] = gtd_df['nkillter'].fillna(fill_value(gtd_df['nkillter']))\n",
    "gtd_df['nwound'] = gtd_df['nwound'].fillna(fill_value(gtd_df['nwound']))\n",
    "gtd_df['nwoundus'] = gtd_df['nwoundus'].fillna(fill_value(gtd_df['nwoundus']))\n",
    "gtd_df['nwoundte'] = gtd_df['nwoundte'].fillna(fill_value(gtd_df['nwoundte']))"
   ]
  },
  {
   "cell_type": "markdown",
   "metadata": {},
   "source": [
    "### Summary Statistics with Imputation\n",
    "The following table presents the summary statistics after imputation."
   ]
  },
  {
   "cell_type": "code",
   "execution_count": 137,
   "metadata": {},
   "outputs": [
    {
     "data": {
      "text/html": [
       "<div>\n",
       "<style>\n",
       "    .dataframe thead tr:only-child th {\n",
       "        text-align: right;\n",
       "    }\n",
       "\n",
       "    .dataframe thead th {\n",
       "        text-align: left;\n",
       "    }\n",
       "\n",
       "    .dataframe tbody tr th {\n",
       "        vertical-align: top;\n",
       "    }\n",
       "</style>\n",
       "<table border=\"1\" class=\"dataframe\">\n",
       "  <thead>\n",
       "    <tr style=\"text-align: right;\">\n",
       "      <th></th>\n",
       "      <th>count</th>\n",
       "      <th>mean</th>\n",
       "      <th>std</th>\n",
       "      <th>min</th>\n",
       "      <th>10%</th>\n",
       "      <th>20%</th>\n",
       "      <th>30%</th>\n",
       "      <th>40%</th>\n",
       "      <th>50%</th>\n",
       "      <th>60%</th>\n",
       "      <th>70%</th>\n",
       "      <th>80%</th>\n",
       "      <th>90%</th>\n",
       "      <th>100%</th>\n",
       "      <th>max</th>\n",
       "    </tr>\n",
       "  </thead>\n",
       "  <tbody>\n",
       "    <tr>\n",
       "      <th>nperpcap</th>\n",
       "      <td>112251.0</td>\n",
       "      <td>0.111108</td>\n",
       "      <td>2.055072</td>\n",
       "      <td>0.0</td>\n",
       "      <td>0.0</td>\n",
       "      <td>0.0</td>\n",
       "      <td>0.0</td>\n",
       "      <td>0.0</td>\n",
       "      <td>0.0</td>\n",
       "      <td>0.0</td>\n",
       "      <td>0.0</td>\n",
       "      <td>0.0</td>\n",
       "      <td>0.0</td>\n",
       "      <td>406.0</td>\n",
       "      <td>406.0</td>\n",
       "    </tr>\n",
       "    <tr>\n",
       "      <th>nkill</th>\n",
       "      <td>112251.0</td>\n",
       "      <td>2.485938</td>\n",
       "      <td>11.820567</td>\n",
       "      <td>0.0</td>\n",
       "      <td>0.0</td>\n",
       "      <td>0.0</td>\n",
       "      <td>0.0</td>\n",
       "      <td>0.0</td>\n",
       "      <td>1.0</td>\n",
       "      <td>1.0</td>\n",
       "      <td>1.0</td>\n",
       "      <td>2.0</td>\n",
       "      <td>5.0</td>\n",
       "      <td>1500.0</td>\n",
       "      <td>1500.0</td>\n",
       "    </tr>\n",
       "    <tr>\n",
       "      <th>nkillus</th>\n",
       "      <td>112251.0</td>\n",
       "      <td>0.039109</td>\n",
       "      <td>5.723184</td>\n",
       "      <td>0.0</td>\n",
       "      <td>0.0</td>\n",
       "      <td>0.0</td>\n",
       "      <td>0.0</td>\n",
       "      <td>0.0</td>\n",
       "      <td>0.0</td>\n",
       "      <td>0.0</td>\n",
       "      <td>0.0</td>\n",
       "      <td>0.0</td>\n",
       "      <td>0.0</td>\n",
       "      <td>1358.0</td>\n",
       "      <td>1358.0</td>\n",
       "    </tr>\n",
       "    <tr>\n",
       "      <th>nkillter</th>\n",
       "      <td>112251.0</td>\n",
       "      <td>0.428121</td>\n",
       "      <td>4.004935</td>\n",
       "      <td>0.0</td>\n",
       "      <td>0.0</td>\n",
       "      <td>0.0</td>\n",
       "      <td>0.0</td>\n",
       "      <td>0.0</td>\n",
       "      <td>0.0</td>\n",
       "      <td>0.0</td>\n",
       "      <td>0.0</td>\n",
       "      <td>0.0</td>\n",
       "      <td>0.0</td>\n",
       "      <td>500.0</td>\n",
       "      <td>500.0</td>\n",
       "    </tr>\n",
       "    <tr>\n",
       "      <th>nwound</th>\n",
       "      <td>112251.0</td>\n",
       "      <td>3.636662</td>\n",
       "      <td>40.069053</td>\n",
       "      <td>0.0</td>\n",
       "      <td>0.0</td>\n",
       "      <td>0.0</td>\n",
       "      <td>0.0</td>\n",
       "      <td>0.0</td>\n",
       "      <td>0.0</td>\n",
       "      <td>1.0</td>\n",
       "      <td>2.0</td>\n",
       "      <td>3.0</td>\n",
       "      <td>8.0</td>\n",
       "      <td>7366.0</td>\n",
       "      <td>7366.0</td>\n",
       "    </tr>\n",
       "    <tr>\n",
       "      <th>nwoundus</th>\n",
       "      <td>112251.0</td>\n",
       "      <td>0.023750</td>\n",
       "      <td>2.127698</td>\n",
       "      <td>0.0</td>\n",
       "      <td>0.0</td>\n",
       "      <td>0.0</td>\n",
       "      <td>0.0</td>\n",
       "      <td>0.0</td>\n",
       "      <td>0.0</td>\n",
       "      <td>0.0</td>\n",
       "      <td>0.0</td>\n",
       "      <td>0.0</td>\n",
       "      <td>0.0</td>\n",
       "      <td>650.0</td>\n",
       "      <td>650.0</td>\n",
       "    </tr>\n",
       "    <tr>\n",
       "      <th>nwoundte</th>\n",
       "      <td>112251.0</td>\n",
       "      <td>0.086538</td>\n",
       "      <td>1.378122</td>\n",
       "      <td>0.0</td>\n",
       "      <td>0.0</td>\n",
       "      <td>0.0</td>\n",
       "      <td>0.0</td>\n",
       "      <td>0.0</td>\n",
       "      <td>0.0</td>\n",
       "      <td>0.0</td>\n",
       "      <td>0.0</td>\n",
       "      <td>0.0</td>\n",
       "      <td>0.0</td>\n",
       "      <td>200.0</td>\n",
       "      <td>200.0</td>\n",
       "    </tr>\n",
       "  </tbody>\n",
       "</table>\n",
       "</div>"
      ],
      "text/plain": [
       "             count      mean        std  min  10%  20%  30%  40%  50%  60%  \\\n",
       "nperpcap  112251.0  0.111108   2.055072  0.0  0.0  0.0  0.0  0.0  0.0  0.0   \n",
       "nkill     112251.0  2.485938  11.820567  0.0  0.0  0.0  0.0  0.0  1.0  1.0   \n",
       "nkillus   112251.0  0.039109   5.723184  0.0  0.0  0.0  0.0  0.0  0.0  0.0   \n",
       "nkillter  112251.0  0.428121   4.004935  0.0  0.0  0.0  0.0  0.0  0.0  0.0   \n",
       "nwound    112251.0  3.636662  40.069053  0.0  0.0  0.0  0.0  0.0  0.0  1.0   \n",
       "nwoundus  112251.0  0.023750   2.127698  0.0  0.0  0.0  0.0  0.0  0.0  0.0   \n",
       "nwoundte  112251.0  0.086538   1.378122  0.0  0.0  0.0  0.0  0.0  0.0  0.0   \n",
       "\n",
       "          70%  80%  90%    100%     max  \n",
       "nperpcap  0.0  0.0  0.0   406.0   406.0  \n",
       "nkill     1.0  2.0  5.0  1500.0  1500.0  \n",
       "nkillus   0.0  0.0  0.0  1358.0  1358.0  \n",
       "nkillter  0.0  0.0  0.0   500.0   500.0  \n",
       "nwound    2.0  3.0  8.0  7366.0  7366.0  \n",
       "nwoundus  0.0  0.0  0.0   650.0   650.0  \n",
       "nwoundte  0.0  0.0  0.0   200.0   200.0  "
      ]
     },
     "execution_count": 137,
     "metadata": {},
     "output_type": "execute_result"
    }
   ],
   "source": [
    "gtd_df[['nperpcap', 'nkill', 'nkillus', 'nkillter', 'nwound', \n",
    "        'nwoundus', 'nwoundte']].describe(\n",
    "    percentiles=[0.10, 0.20, 0.30, 0.40, 0.50, 0.60, 0.70, 0.80, 0.90, 1.0]).transpose()"
   ]
  },
  {
   "cell_type": "markdown",
   "metadata": {},
   "source": [
    "### Data Frame Review\n",
    "The new data frame now has a state that only includes missing values for the latitude and longitude attributes.  There are 1,407 observations or 1.25% of the total observations, which contain missing values."
   ]
  },
  {
   "cell_type": "code",
   "execution_count": 138,
   "metadata": {},
   "outputs": [
    {
     "name": "stdout",
     "output_type": "stream",
     "text": [
      "<class 'pandas.core.frame.DataFrame'>\n",
      "Int64Index: 112251 entries, 199501000001 to 201701270001\n",
      "Data columns (total 47 columns):\n",
      "iyear               112251 non-null int64\n",
      "imonth              112251 non-null int64\n",
      "iday                112251 non-null int64\n",
      "country_txt         112251 non-null category\n",
      "region_txt          112251 non-null category\n",
      "provstate           112251 non-null object\n",
      "city                112251 non-null object\n",
      "latitude            110844 non-null float64\n",
      "longitude           110844 non-null float64\n",
      "specificity         112251 non-null category\n",
      "summary             112251 non-null object\n",
      "attacktype1_txt     112251 non-null category\n",
      "targtype1_txt       112251 non-null category\n",
      "targsubtype1_txt    112251 non-null category\n",
      "corp1               112251 non-null object\n",
      "target1             112251 non-null object\n",
      "natlty1_txt         112251 non-null category\n",
      "gname               112251 non-null object\n",
      "nperpcap            112251 non-null float64\n",
      "weaptype1_txt       112251 non-null category\n",
      "weapsubtype1_txt    112251 non-null category\n",
      "nkill               112251 non-null float64\n",
      "nkillus             112251 non-null float64\n",
      "nkillter            112251 non-null float64\n",
      "nwound              112251 non-null float64\n",
      "nwoundus            112251 non-null float64\n",
      "nwoundte            112251 non-null float64\n",
      "scite1              112251 non-null object\n",
      "dbsource            112251 non-null object\n",
      "extended_txt        112251 non-null category\n",
      "vicinity_txt        112251 non-null category\n",
      "crit1_txt           112251 non-null category\n",
      "crit2_txt           112251 non-null category\n",
      "crit3_txt           112251 non-null category\n",
      "doubtterr_txt       112251 non-null category\n",
      "multiple_txt        112251 non-null category\n",
      "success_txt         112251 non-null category\n",
      "suicide_txt         112251 non-null category\n",
      "guncertain1_txt     112251 non-null category\n",
      "individual_txt      112251 non-null category\n",
      "claimed_txt         112251 non-null category\n",
      "property_txt        112251 non-null category\n",
      "ishostkid_txt       112251 non-null category\n",
      "INT_LOG_txt         112251 non-null category\n",
      "INT_IDEO_txt        112251 non-null category\n",
      "INT_MISC_txt        112251 non-null category\n",
      "INT_ANY_txt         112251 non-null category\n",
      "dtypes: category(27), float64(9), int64(3), object(8)\n",
      "memory usage: 21.1+ MB\n"
     ]
    }
   ],
   "source": [
    "gtd_df.info(verbose = True)"
   ]
  },
  {
   "cell_type": "markdown",
   "metadata": {},
   "source": [
    "### Latitude and Longitude\n",
    "Using the following calculations, 1,407 observations contain missing values for latitude and longitude.  Of the 1,407 observations, 984 observations contain UNKNOWN for the city attribute.  Given this information, using reverse gecoding based on the city would not be possible for 69.93% of the observations.  As a result, the observations will be dropped since they only represent 1.25% of the total dataset."
   ]
  },
  {
   "cell_type": "code",
   "execution_count": 139,
   "metadata": {},
   "outputs": [
    {
     "data": {
      "text/plain": [
       "(1407, 47)"
      ]
     },
     "execution_count": 139,
     "metadata": {},
     "output_type": "execute_result"
    },
    {
     "data": {
      "text/plain": [
       "UNKNOWN    984\n",
       "Name: city, dtype: int64"
      ]
     },
     "execution_count": 139,
     "metadata": {},
     "output_type": "execute_result"
    },
    {
     "name": "stdout",
     "output_type": "stream",
     "text": [
      "<class 'pandas.core.frame.DataFrame'>\n",
      "Int64Index: 110844 entries, 199501000001 to 201701270001\n",
      "Data columns (total 47 columns):\n",
      "iyear               110844 non-null int64\n",
      "imonth              110844 non-null int64\n",
      "iday                110844 non-null int64\n",
      "country_txt         110844 non-null category\n",
      "region_txt          110844 non-null category\n",
      "provstate           110844 non-null object\n",
      "city                110844 non-null object\n",
      "latitude            110844 non-null float64\n",
      "longitude           110844 non-null float64\n",
      "specificity         110844 non-null category\n",
      "summary             110844 non-null object\n",
      "attacktype1_txt     110844 non-null category\n",
      "targtype1_txt       110844 non-null category\n",
      "targsubtype1_txt    110844 non-null category\n",
      "corp1               110844 non-null object\n",
      "target1             110844 non-null object\n",
      "natlty1_txt         110844 non-null category\n",
      "gname               110844 non-null object\n",
      "nperpcap            110844 non-null float64\n",
      "weaptype1_txt       110844 non-null category\n",
      "weapsubtype1_txt    110844 non-null category\n",
      "nkill               110844 non-null float64\n",
      "nkillus             110844 non-null float64\n",
      "nkillter            110844 non-null float64\n",
      "nwound              110844 non-null float64\n",
      "nwoundus            110844 non-null float64\n",
      "nwoundte            110844 non-null float64\n",
      "scite1              110844 non-null object\n",
      "dbsource            110844 non-null object\n",
      "extended_txt        110844 non-null category\n",
      "vicinity_txt        110844 non-null category\n",
      "crit1_txt           110844 non-null category\n",
      "crit2_txt           110844 non-null category\n",
      "crit3_txt           110844 non-null category\n",
      "doubtterr_txt       110844 non-null category\n",
      "multiple_txt        110844 non-null category\n",
      "success_txt         110844 non-null category\n",
      "suicide_txt         110844 non-null category\n",
      "guncertain1_txt     110844 non-null category\n",
      "individual_txt      110844 non-null category\n",
      "claimed_txt         110844 non-null category\n",
      "property_txt        110844 non-null category\n",
      "ishostkid_txt       110844 non-null category\n",
      "INT_LOG_txt         110844 non-null category\n",
      "INT_IDEO_txt        110844 non-null category\n",
      "INT_MISC_txt        110844 non-null category\n",
      "INT_ANY_txt         110844 non-null category\n",
      "dtypes: category(27), float64(9), int64(3), object(8)\n",
      "memory usage: 20.8+ MB\n"
     ]
    }
   ],
   "source": [
    "# Select the observations that contain null\n",
    "ll_df = gtd_df[np.isnan(gtd_df.latitude)]\n",
    "ll_df.shape\n",
    "\n",
    "# Chech how many observations have city set to Unknown\n",
    "city_df = ll_df[(ll_df['city'] == \"UNKNOWN\")]\n",
    "city_df['city'].value_counts()\n",
    "\n",
    "# Remove observations containing missing missing values for latitude and longitude\n",
    "gtd_clean = gtd_df.dropna().copy()\n",
    "gtd_clean.info(verbose = True)"
   ]
  },
  {
   "cell_type": "markdown",
   "metadata": {},
   "source": [
    "### Incident Date\n",
    "Concatinate the `iyear`, `imonth` and `iday` attributes to create an incident date."
   ]
  },
  {
   "cell_type": "code",
   "execution_count": 140,
   "metadata": {},
   "outputs": [],
   "source": [
    "# 297 iday attributes contain 0 to represent unknown, setting 1\n",
    "gtd_clean.loc[gtd_clean['iday'] == 0, 'iday'] = 1\n",
    "\n",
    "gtd_clean['incident_date'] = (gtd_clean['iyear'].astype(str) + '-' + \n",
    "                              gtd_clean['imonth'].astype(str) + '-' + \n",
    "                              gtd_clean['iday'].astype(str))\n",
    "\n",
    "gtd_clean['incident_date'] = pd.to_datetime(gtd_clean['incident_date'], \n",
    "                                            format=\"%Y-%m-%d\")"
   ]
  },
  {
   "cell_type": "markdown",
   "metadata": {},
   "source": [
    "### Save the Cleansed Data\n",
    "Output the new data frame to a CSV file for use in the predictive models."
   ]
  },
  {
   "cell_type": "code",
   "execution_count": 141,
   "metadata": {
    "collapsed": true
   },
   "outputs": [],
   "source": [
    "gtd_clean.to_csv(\"../data/gtd_eda_95t016.csv\", sep = \",\")"
   ]
  },
  {
   "cell_type": "markdown",
   "metadata": {},
   "source": [
    "### Attacks by Year\n",
    "Plot the number of terrorist incidents by year."
   ]
  },
  {
   "cell_type": "code",
   "execution_count": 142,
   "metadata": {},
   "outputs": [
    {
     "data": {
      "text/plain": [
       "<seaborn.axisgrid.FacetGrid at 0x1a1e82a828>"
      ]
     },
     "execution_count": 142,
     "metadata": {},
     "output_type": "execute_result"
    },
    {
     "data": {
      "image/png": "[encoded data removed]",
      "text/plain": [
       "<matplotlib.figure.Figure at 0x1a32d14a58>"
      ]
     },
     "metadata": {},
     "output_type": "display_data"
    }
   ],
   "source": [
    "# Make a range of years to show categories with no observations\n",
    "years = np.arange(1995, 2017)\n",
    "\n",
    "# Draw a count plot to show the number of attacks each year\n",
    "plt1 = sns.factorplot(\"iyear\", data=gtd_clean, kind=\"count\", color='steelblue', size=7.6, aspect=1.618)\n",
    "plt1.set_xticklabels(step=3)\n",
    "_ = plt.title('Attacks by Year')\n",
    "_ = plt.xlabel('Year')\n",
    "_ = plt.ylabel('Incident Count')\n",
    "plt.show()"
   ]
  },
  {
   "cell_type": "markdown",
   "metadata": {},
   "source": [
    "### Fatalities by Year\n",
    "Plot the number of confirmed fatalities by year."
   ]
  },
  {
   "cell_type": "code",
   "execution_count": 143,
   "metadata": {},
   "outputs": [
    {
     "data": {
      "text/plain": [
       "<seaborn.axisgrid.FacetGrid at 0x1a22a2e588>"
      ]
     },
     "execution_count": 143,
     "metadata": {},
     "output_type": "execute_result"
    },
    {
     "data": {
      "image/png": "[encoded data removed]",
      "text/plain": [
       "<matplotlib.figure.Figure at 0x1a2f2e5e48>"
      ]
     },
     "metadata": {},
     "output_type": "display_data"
    }
   ],
   "source": [
    "# Make a range of years to show categories with no observations\n",
    "years = np.arange(1995, 2017)\n",
    "\n",
    "df1 = gtd_clean[['iyear', 'nkill']]\n",
    "gp1 = df1.groupby(['iyear'], as_index = False).sum()\n",
    "\n",
    "# Draw a count plot to show the number of attacks each year\n",
    "plt1 = sns.factorplot(x = 'iyear', y = 'nkill', data=gp1, kind = 'bar', color='steelblue', size=7.6, aspect=1.618)\n",
    "plt1.set_xticklabels(step=3)\n",
    "_ = plt.title('Fatalities by Year')\n",
    "_ = plt.xlabel('Year')\n",
    "_ = plt.ylabel('Number of Fatalities')\n",
    "plt.show()"
   ]
  },
  {
   "cell_type": "code",
   "execution_count": 144,
   "metadata": {},
   "outputs": [
    {
     "data": {
      "image/png": "[encoded data removed]",
      "text/plain": [
       "<matplotlib.figure.Figure at 0x10972de10>"
      ]
     },
     "metadata": {},
     "output_type": "display_data"
    }
   ],
   "source": [
    "_ = sns.countplot(x = 'INT_ANY_txt', data=gtd_clean)\n",
    "_ = plt.xlabel('International Event')\n",
    "_ = plt.ylabel('Count')\n",
    "plt.show()"
   ]
  },
  {
   "attachments": {},
   "cell_type": "markdown",
   "metadata": {},
   "source": [
    "### References\n",
    "\n",
    "Chen, D. (n.d.). Duplicate and missing data Retrieved from https://campus.datacamp.com/courses/cleaning-data-in-python/cleaning-data-for-analysis?ex=11\n",
    "\n",
    "Pandas. (n.d.). Categorical data. Retrieved from https://pandas.pydata.org/pandas-docs/stable/categorical.html"
   ]
  },
  {
   "cell_type": "code",
   "execution_count": null,
   "metadata": {
    "collapsed": true
   },
   "outputs": [],
   "source": []
  }
 ],
 "metadata": {
  "kernelspec": {
   "display_name": "Python 3",
   "language": "python",
   "name": "python3"
  },
  "language_info": {
   "codemirror_mode": {
    "name": "ipython",
    "version": 3
   },
   "file_extension": ".py",
   "mimetype": "text/x-python",
   "name": "python",
   "nbconvert_exporter": "python",
   "pygments_lexer": "ipython3",
   "version": "3.6.3"
  }
 },
 "nbformat": 4,
 "nbformat_minor": 2
}
